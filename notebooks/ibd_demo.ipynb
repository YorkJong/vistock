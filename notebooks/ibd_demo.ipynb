{
  "nbformat": 4,
  "nbformat_minor": 0,
  "metadata": {
    "colab": {
      "provenance": [],
      "authorship_tag": "ABX9TyNmjmyGULWhPoflaFYvAT20",
      "include_colab_link": true
    },
    "kernelspec": {
      "name": "python3",
      "display_name": "Python 3"
    },
    "language_info": {
      "name": "python"
    }
  },
  "cells": [
    {
      "cell_type": "markdown",
      "metadata": {
        "id": "view-in-github",
        "colab_type": "text"
      },
      "source": [
        "<a href=\"https://colab.research.google.com/github/YorkJong/vistock/blob/feature%2Fibd/notebooks/ibd_demo.ipynb\" target=\"_parent\"><img src=\"https://colab.research.google.com/assets/colab-badge.svg\" alt=\"Open In Colab\"/></a>"
      ]
    },
    {
      "cell_type": "markdown",
      "source": [
        "### Install vistock from GitHub (免費版Colab會固定時間清掉安裝的東西，所以重安裝是新連線後最先要做的事)"
      ],
      "metadata": {
        "id": "Bqq-Ja-fGFMh"
      }
    },
    {
      "cell_type": "code",
      "execution_count": 2,
      "metadata": {
        "colab": {
          "base_uri": "https://localhost:8080/"
        },
        "id": "NP7dWJSMF8L8",
        "outputId": "1bb89ea3-435c-479a-94b8-5f7481e4f6c6"
      },
      "outputs": [
        {
          "output_type": "stream",
          "name": "stdout",
          "text": [
            "Collecting git+https://github.com/YorkJong/vistock.git@feature/ibd\n",
            "  Cloning https://github.com/YorkJong/vistock.git (to revision feature/ibd) to /tmp/pip-req-build-o3mz1rxn\n",
            "  Running command git clone --filter=blob:none --quiet https://github.com/YorkJong/vistock.git /tmp/pip-req-build-o3mz1rxn\n",
            "  Running command git checkout -b feature/ibd --track origin/feature/ibd\n",
            "  Switched to a new branch 'feature/ibd'\n",
            "  Branch 'feature/ibd' set up to track remote branch 'feature/ibd' from 'origin'.\n",
            "  Resolved https://github.com/YorkJong/vistock.git to commit a30c33c01ed74b68f9614149929d33ea3a01b8ba\n",
            "  Preparing metadata (setup.py) ... \u001b[?25l\u001b[?25hdone\n",
            "Requirement already satisfied: pandas in /usr/local/lib/python3.10/dist-packages (from vistock==0.3.4) (2.1.4)\n",
            "Requirement already satisfied: yfinance in /usr/local/lib/python3.10/dist-packages (from vistock==0.3.4) (0.2.41)\n",
            "Requirement already satisfied: mplfinance in /usr/local/lib/python3.10/dist-packages (from vistock==0.3.4) (0.12.10b0)\n",
            "Requirement already satisfied: plotly in /usr/local/lib/python3.10/dist-packages (from vistock==0.3.4) (5.15.0)\n",
            "Requirement already satisfied: requests in /usr/local/lib/python3.10/dist-packages (from vistock==0.3.4) (2.31.0)\n",
            "Requirement already satisfied: beautifulsoup4 in /usr/local/lib/python3.10/dist-packages (from vistock==0.3.4) (4.12.3)\n",
            "Requirement already satisfied: soupsieve>1.2 in /usr/local/lib/python3.10/dist-packages (from beautifulsoup4->vistock==0.3.4) (2.5)\n",
            "Requirement already satisfied: matplotlib in /usr/local/lib/python3.10/dist-packages (from mplfinance->vistock==0.3.4) (3.7.1)\n",
            "Requirement already satisfied: numpy<2,>=1.22.4 in /usr/local/lib/python3.10/dist-packages (from pandas->vistock==0.3.4) (1.26.4)\n",
            "Requirement already satisfied: python-dateutil>=2.8.2 in /usr/local/lib/python3.10/dist-packages (from pandas->vistock==0.3.4) (2.8.2)\n",
            "Requirement already satisfied: pytz>=2020.1 in /usr/local/lib/python3.10/dist-packages (from pandas->vistock==0.3.4) (2024.1)\n",
            "Requirement already satisfied: tzdata>=2022.1 in /usr/local/lib/python3.10/dist-packages (from pandas->vistock==0.3.4) (2024.1)\n",
            "Requirement already satisfied: tenacity>=6.2.0 in /usr/local/lib/python3.10/dist-packages (from plotly->vistock==0.3.4) (9.0.0)\n",
            "Requirement already satisfied: packaging in /usr/local/lib/python3.10/dist-packages (from plotly->vistock==0.3.4) (24.1)\n",
            "Requirement already satisfied: charset-normalizer<4,>=2 in /usr/local/lib/python3.10/dist-packages (from requests->vistock==0.3.4) (3.3.2)\n",
            "Requirement already satisfied: idna<4,>=2.5 in /usr/local/lib/python3.10/dist-packages (from requests->vistock==0.3.4) (3.7)\n",
            "Requirement already satisfied: urllib3<3,>=1.21.1 in /usr/local/lib/python3.10/dist-packages (from requests->vistock==0.3.4) (2.0.7)\n",
            "Requirement already satisfied: certifi>=2017.4.17 in /usr/local/lib/python3.10/dist-packages (from requests->vistock==0.3.4) (2024.7.4)\n",
            "Requirement already satisfied: multitasking>=0.0.7 in /usr/local/lib/python3.10/dist-packages (from yfinance->vistock==0.3.4) (0.0.11)\n",
            "Requirement already satisfied: lxml>=4.9.1 in /usr/local/lib/python3.10/dist-packages (from yfinance->vistock==0.3.4) (4.9.4)\n",
            "Requirement already satisfied: platformdirs>=2.0.0 in /usr/local/lib/python3.10/dist-packages (from yfinance->vistock==0.3.4) (4.2.2)\n",
            "Requirement already satisfied: frozendict>=2.3.4 in /usr/local/lib/python3.10/dist-packages (from yfinance->vistock==0.3.4) (2.4.4)\n",
            "Requirement already satisfied: peewee>=3.16.2 in /usr/local/lib/python3.10/dist-packages (from yfinance->vistock==0.3.4) (3.17.6)\n",
            "Requirement already satisfied: html5lib>=1.1 in /usr/local/lib/python3.10/dist-packages (from yfinance->vistock==0.3.4) (1.1)\n",
            "Requirement already satisfied: six>=1.9 in /usr/local/lib/python3.10/dist-packages (from html5lib>=1.1->yfinance->vistock==0.3.4) (1.16.0)\n",
            "Requirement already satisfied: webencodings in /usr/local/lib/python3.10/dist-packages (from html5lib>=1.1->yfinance->vistock==0.3.4) (0.5.1)\n",
            "Requirement already satisfied: contourpy>=1.0.1 in /usr/local/lib/python3.10/dist-packages (from matplotlib->mplfinance->vistock==0.3.4) (1.2.1)\n",
            "Requirement already satisfied: cycler>=0.10 in /usr/local/lib/python3.10/dist-packages (from matplotlib->mplfinance->vistock==0.3.4) (0.12.1)\n",
            "Requirement already satisfied: fonttools>=4.22.0 in /usr/local/lib/python3.10/dist-packages (from matplotlib->mplfinance->vistock==0.3.4) (4.53.1)\n",
            "Requirement already satisfied: kiwisolver>=1.0.1 in /usr/local/lib/python3.10/dist-packages (from matplotlib->mplfinance->vistock==0.3.4) (1.4.5)\n",
            "Requirement already satisfied: pillow>=6.2.0 in /usr/local/lib/python3.10/dist-packages (from matplotlib->mplfinance->vistock==0.3.4) (9.4.0)\n",
            "Requirement already satisfied: pyparsing>=2.3.1 in /usr/local/lib/python3.10/dist-packages (from matplotlib->mplfinance->vistock==0.3.4) (3.1.2)\n"
          ]
        }
      ],
      "source": [
        "%pip install \"git+https://github.com/YorkJong/vistock.git@feature/ibd\""
      ]
    },
    {
      "cell_type": "markdown",
      "source": [
        "### IBD RS Rating"
      ],
      "metadata": {
        "id": "vRrwlw8EGpCU"
      }
    },
    {
      "cell_type": "code",
      "source": [
        "import os\n",
        "from vistock import ibd\n",
        "from vistock.stock_indices import get_sox_tickers\n",
        "\n",
        "\n",
        "def main(min_percentile=80, out_dir='out'):\n",
        "    '''\n",
        "    Args:\n",
        "        min_percentile (int, optional): The minimum percentile for a stock to be\n",
        "            included in the rankings. Defaults to 80.\n",
        "        out_dir (str, optional): The output directory to store CSV tables.\n",
        "            Defaults to 'out'\n",
        "    '''\n",
        "    rank_stock, rank_indust = ibd.rankings(get_sox_tickers())\n",
        "\n",
        "    if rank_stock.empty or rank_indust.empty:\n",
        "        print(\"Not enough data to generate rankings.\")\n",
        "        return\n",
        "\n",
        "    print('Stock Rankings:')\n",
        "    print(rank_stock[rank_stock[ibd.TITLE_PERCENTILE] >= min_percentile])\n",
        "\n",
        "    print('\\n\\nIndustry Rankings:')\n",
        "    print(rank_indust)\n",
        "\n",
        "    if not os.path.exists(out_dir):\n",
        "        os.makedirs(out_dir)\n",
        "\n",
        "    # Save to CSV\n",
        "    print(\"\\n***\")\n",
        "    for table, kind in zip([rank_stock, rank_indust],\n",
        "                           ['stocks', 'industries']):\n",
        "        filename = f'sox_{kind}.csv'\n",
        "        table.to_csv(os.path.join(out_dir, filename), index=False)\n",
        "        print(f\"Your '{filename}' is in the output folder.\")\n",
        "    print(\"***\\n\")\n",
        "\n",
        "\n",
        "if __name__ == \"__main__\":\n",
        "    main()"
      ],
      "metadata": {
        "colab": {
          "base_uri": "https://localhost:8080/"
        },
        "id": "N5jE9WyHG1Zw",
        "outputId": "91c78efd-c385-4555-f22a-8bb2119bfe33"
      },
      "execution_count": 6,
      "outputs": [
        {
          "output_type": "stream",
          "name": "stdout",
          "text": [
            "Stock Rankings:\n",
            "   Ticker      Sector                             Industry  Relative Strength  \\\n",
            "19   NVDA  Technology                       Semiconductors             155.44   \n",
            "26    TSM  Technology                       Semiconductors             125.89   \n",
            "5    AVGO  Technology                       Semiconductors             122.61   \n",
            "17   MPWR  Technology                       Semiconductors             119.84   \n",
            "6    COHR  Technology   Scientific & Technical Instruments             113.34   \n",
            "11   KLAC  Technology  Semiconductor Equipment & Materials             111.55   \n",
            "\n",
            "    1 Month Ago  3 Months Ago  6 Months Ago  Percentile   1 Month Ago  \\\n",
            "19       200.51        169.38        183.58          99            99   \n",
            "26       145.54        127.62        120.79          96            96   \n",
            "5        141.14        128.68        143.55          93            89   \n",
            "17       125.43        111.67        132.49          89            72   \n",
            "6        141.68        108.64        147.72          86            93   \n",
            "11       135.00        122.20        122.23          82            86   \n",
            "\n",
            "     3 Months Ago   6 Months Ago  Rank  \n",
            "19             99             99     1  \n",
            "26             86             68     2  \n",
            "5              93             89     3  \n",
            "17             65             86     4  \n",
            "6              55             93     5  \n",
            "11             79             75     6  \n",
            "\n",
            "\n",
            "Industry Rankings:\n",
            "                              Industry      Sector  Relative Strength  \\\n",
            "2   Scientific & Technical Instruments  Technology             106.32   \n",
            "1  Semiconductor Equipment & Materials  Technology              93.38   \n",
            "0                       Semiconductors  Technology              92.51   \n",
            "\n",
            "   1 Month Ago  3 Months Ago  6 Months Ago  \\\n",
            "2       111.88        100.40        121.65   \n",
            "1       116.29        110.03        112.22   \n",
            "0       106.46        103.59        109.09   \n",
            "\n",
            "                                             Tickers  Percentile  \\\n",
            "2                                          COHR,NOVT          99   \n",
            "1                  KLAC,TER,AMAT,ASML,LRCX,ENTG,IPGP          49   \n",
            "0  NVDA,TSM,AVGO,MPWR,TXN,QCOM,ADI,NXPI,QRVO,SWKS...           0   \n",
            "\n",
            "    1 Month Ago   3 Months Ago   6 Months Ago  Rank  \n",
            "2            49              0             99     1  \n",
            "1            99             99             49     2  \n",
            "0             0             49              0     3  \n",
            "\n",
            "***\n",
            "Your 'sox_stocks.csv' is in the output folder.\n",
            "Your 'sox_industries.csv' is in the output folder.\n",
            "***\n",
            "\n"
          ]
        }
      ]
    },
    {
      "cell_type": "markdown",
      "source": [
        "### Misc Test"
      ],
      "metadata": {
        "id": "pBvemZiHb5je"
      }
    },
    {
      "cell_type": "code",
      "source": [
        "from vistock import tw\n",
        "\n",
        "tw.similar_stocks('印度')"
      ],
      "metadata": {
        "id": "Y4tbrLCwb8AR",
        "outputId": "89ae946e-86b1-499c-c357-64b88fc1dcab",
        "colab": {
          "base_uri": "https://localhost:8080/"
        }
      },
      "execution_count": 8,
      "outputs": [
        {
          "output_type": "execute_result",
          "data": {
            "text/plain": [
              "[('富邦印度', '00652'), ('富邦印度正2', '00653L'), ('富邦印度反1', '00654R')]"
            ]
          },
          "metadata": {},
          "execution_count": 8
        }
      ]
    },
    {
      "cell_type": "code",
      "source": [
        "from vistock import tw\n",
        "\n",
        "tw.get_esb_tickers()[:5]"
      ],
      "metadata": {
        "colab": {
          "base_uri": "https://localhost:8080/"
        },
        "id": "Oxaba3nCaELx",
        "outputId": "61cc3071-b740-4337-f62f-6509fa8d8f95"
      },
      "execution_count": 9,
      "outputs": [
        {
          "output_type": "execute_result",
          "data": {
            "text/plain": [
              "['9957.TWO', '2646.TWO', '5859.TWO', '6434.TWO', '1480.TWO']"
            ]
          },
          "metadata": {},
          "execution_count": 9
        }
      ]
    }
  ]
}